{
  "nbformat": 4,
  "nbformat_minor": 0,
  "metadata": {
    "colab": {
      "provenance": []
    },
    "kernelspec": {
      "name": "python3",
      "display_name": "Python 3"
    },
    "language_info": {
      "name": "python"
    }
  },
  "cells": [
    {
      "cell_type": "markdown",
      "source": [
        "# `klonowanie repozytorium`"
      ],
      "metadata": {
        "id": "rjx3N18uNlXN"
      }
    },
    {
      "cell_type": "code",
      "source": [
        "# @title Clone the entire repo { vertical-output: true }\n",
        "repo_link = \"https://github.com/kupieckozienice/pyPDF2\" # @param {type:\"string\"}\n",
        "\n",
        "# https://github.com/kupieckozienice/pyPDF2\n",
        "\n",
        "# !git clone -l -s repo_link cloned-repo\n",
        "# %cd cloned-repo\n",
        "# !ls"
      ],
      "metadata": {
        "id": "MrQetC9ddQdI",
        "cellView": "form"
      },
      "execution_count": 1,
      "outputs": []
    },
    {
      "cell_type": "markdown",
      "source": [
        "# `instalowanie bibliotek`"
      ],
      "metadata": {
        "id": "ZdGgafE6Gzpq"
      }
    },
    {
      "cell_type": "code",
      "source": [
        "# @title install unidecode { form-width: \"500px\", display-mode: \"both\" }\n",
        "%pip install unidecode"
      ],
      "metadata": {
        "colab": {
          "base_uri": "https://localhost:8080/"
        },
        "id": "22smGidmdP1U",
        "outputId": "3d25ac20-dd34-4948-c8ff-7f317abc5a08"
      },
      "execution_count": 2,
      "outputs": [
        {
          "output_type": "stream",
          "name": "stdout",
          "text": [
            "Collecting unidecode\n",
            "  Downloading Unidecode-1.3.8-py3-none-any.whl (235 kB)\n",
            "\u001b[?25l     \u001b[90m━━━━━━━━━━━━━━━━━━━━━━━━━━━━━━━━━━━━━━━━\u001b[0m \u001b[32m0.0/235.5 kB\u001b[0m \u001b[31m?\u001b[0m eta \u001b[36m-:--:--\u001b[0m\r\u001b[2K     \u001b[91m━━━━━━━━━━━━━━━━━━━━━━━━━━━━━━━━━━━━━━\u001b[0m\u001b[90m╺\u001b[0m\u001b[90m━\u001b[0m \u001b[32m225.3/235.5 kB\u001b[0m \u001b[31m6.7 MB/s\u001b[0m eta \u001b[36m0:00:01\u001b[0m\r\u001b[2K     \u001b[90m━━━━━━━━━━━━━━━━━━━━━━━━━━━━━━━━━━━━━━━━\u001b[0m \u001b[32m235.5/235.5 kB\u001b[0m \u001b[31m5.4 MB/s\u001b[0m eta \u001b[36m0:00:00\u001b[0m\n",
            "\u001b[?25hInstalling collected packages: unidecode\n",
            "Successfully installed unidecode-1.3.8\n"
          ]
        }
      ]
    },
    {
      "cell_type": "code",
      "source": [
        "# @title install python-docx { form-width: \"750px\", display-mode: \"both\" }\n",
        "%pip install python-docx"
      ],
      "metadata": {
        "id": "PO0M9LH0gVDY",
        "outputId": "3b298e49-dafa-4ecf-d511-779c37a7b6ee",
        "colab": {
          "base_uri": "https://localhost:8080/"
        }
      },
      "execution_count": 3,
      "outputs": [
        {
          "output_type": "stream",
          "name": "stdout",
          "text": [
            "Collecting python-docx\n",
            "  Downloading python_docx-1.1.0-py3-none-any.whl (239 kB)\n",
            "\u001b[?25l     \u001b[90m━━━━━━━━━━━━━━━━━━━━━━━━━━━━━━━━━━━━━━━━\u001b[0m \u001b[32m0.0/239.6 kB\u001b[0m \u001b[31m?\u001b[0m eta \u001b[36m-:--:--\u001b[0m\r\u001b[2K     \u001b[91m━━━━━━━━━━━━━━━━━━━━━━\u001b[0m\u001b[90m╺\u001b[0m\u001b[90m━━━━━━━━━━━━━━━━━\u001b[0m \u001b[32m133.1/239.6 kB\u001b[0m \u001b[31m3.7 MB/s\u001b[0m eta \u001b[36m0:00:01\u001b[0m\r\u001b[2K     \u001b[90m━━━━━━━━━━━━━━━━━━━━━━━━━━━━━━━━━━━━━━━━\u001b[0m \u001b[32m239.6/239.6 kB\u001b[0m \u001b[31m4.5 MB/s\u001b[0m eta \u001b[36m0:00:00\u001b[0m\n",
            "\u001b[?25hRequirement already satisfied: lxml>=3.1.0 in /usr/local/lib/python3.10/dist-packages (from python-docx) (4.9.4)\n",
            "Requirement already satisfied: typing-extensions in /usr/local/lib/python3.10/dist-packages (from python-docx) (4.9.0)\n",
            "Installing collected packages: python-docx\n",
            "Successfully installed python-docx-1.1.0\n"
          ]
        }
      ]
    },
    {
      "cell_type": "code",
      "source": [
        "# @title install PyPDF2 { form-width: \"600px\", display-mode: \"both\" }\n",
        "%pip install PyPDF2"
      ],
      "metadata": {
        "id": "a8lERaDC0s-u",
        "outputId": "a8988f74-89ea-4c4e-8c4d-1572849093c2",
        "colab": {
          "base_uri": "https://localhost:8080/"
        }
      },
      "execution_count": 4,
      "outputs": [
        {
          "output_type": "stream",
          "name": "stdout",
          "text": [
            "Collecting PyPDF2\n",
            "  Downloading pypdf2-3.0.1-py3-none-any.whl (232 kB)\n",
            "\u001b[2K     \u001b[90m━━━━━━━━━━━━━━━━━━━━━━━━━━━━━━━━━━━━━━━━\u001b[0m \u001b[32m232.6/232.6 kB\u001b[0m \u001b[31m4.2 MB/s\u001b[0m eta \u001b[36m0:00:00\u001b[0m\n",
            "\u001b[?25hInstalling collected packages: PyPDF2\n",
            "Successfully installed PyPDF2-3.0.1\n"
          ]
        }
      ]
    },
    {
      "cell_type": "code",
      "source": [
        "# @title install pdfminer.six { form-width: \"600px\", display-mode: \"both\" }\n",
        "%pip install pdfminer.six"
      ],
      "metadata": {
        "colab": {
          "base_uri": "https://localhost:8080/"
        },
        "id": "Ip0ocTxo2sPI",
        "outputId": "3e62db22-cab9-4a9c-8f10-aab779b23fc3"
      },
      "execution_count": 5,
      "outputs": [
        {
          "output_type": "stream",
          "name": "stdout",
          "text": [
            "Collecting pdfminer.six\n",
            "  Downloading pdfminer.six-20231228-py3-none-any.whl (5.6 MB)\n",
            "\u001b[2K     \u001b[90m━━━━━━━━━━━━━━━━━━━━━━━━━━━━━━━━━━━━━━━━\u001b[0m \u001b[32m5.6/5.6 MB\u001b[0m \u001b[31m16.7 MB/s\u001b[0m eta \u001b[36m0:00:00\u001b[0m\n",
            "\u001b[?25hRequirement already satisfied: charset-normalizer>=2.0.0 in /usr/local/lib/python3.10/dist-packages (from pdfminer.six) (3.3.2)\n",
            "Requirement already satisfied: cryptography>=36.0.0 in /usr/local/lib/python3.10/dist-packages (from pdfminer.six) (42.0.2)\n",
            "Requirement already satisfied: cffi>=1.12 in /usr/local/lib/python3.10/dist-packages (from cryptography>=36.0.0->pdfminer.six) (1.16.0)\n",
            "Requirement already satisfied: pycparser in /usr/local/lib/python3.10/dist-packages (from cffi>=1.12->cryptography>=36.0.0->pdfminer.six) (2.21)\n",
            "Installing collected packages: pdfminer.six\n",
            "Successfully installed pdfminer.six-20231228\n"
          ]
        }
      ]
    },
    {
      "cell_type": "code",
      "source": [
        "# @title install openpyxl { form-width: \"600px\", display-mode: \"both\" }\n",
        "%pip install openpyxl"
      ],
      "metadata": {
        "id": "dY2jkySJFpti",
        "outputId": "3dfab1fb-604d-45cd-b345-cbc3c16f62c9",
        "colab": {
          "base_uri": "https://localhost:8080/"
        }
      },
      "execution_count": 6,
      "outputs": [
        {
          "output_type": "stream",
          "name": "stdout",
          "text": [
            "Requirement already satisfied: openpyxl in /usr/local/lib/python3.10/dist-packages (3.1.2)\n",
            "Requirement already satisfied: et-xmlfile in /usr/local/lib/python3.10/dist-packages (from openpyxl) (1.1.0)\n"
          ]
        }
      ]
    },
    {
      "cell_type": "code",
      "source": [
        "# @title install pillow\n",
        "%pip install pillow"
      ],
      "metadata": {
        "id": "F2AEpA3pJCUs",
        "outputId": "69b05c0d-d2bc-4772-9602-7ca17a74cc28",
        "colab": {
          "base_uri": "https://localhost:8080/"
        }
      },
      "execution_count": 7,
      "outputs": [
        {
          "output_type": "stream",
          "name": "stdout",
          "text": [
            "Requirement already satisfied: pillow in /usr/local/lib/python3.10/dist-packages (9.4.0)\n"
          ]
        }
      ]
    },
    {
      "cell_type": "code",
      "source": [
        "# @title install faker\n",
        "%pip install faker"
      ],
      "metadata": {
        "colab": {
          "base_uri": "https://localhost:8080/"
        },
        "id": "B6DgsenUMieI",
        "outputId": "4eddb3ab-367c-42fa-c5ea-ef46a3bad348"
      },
      "execution_count": 8,
      "outputs": [
        {
          "output_type": "stream",
          "name": "stdout",
          "text": [
            "Collecting faker\n",
            "  Downloading Faker-23.0.0-py3-none-any.whl (1.7 MB)\n",
            "\u001b[2K     \u001b[90m━━━━━━━━━━━━━━━━━━━━━━━━━━━━━━━━━━━━━━━━\u001b[0m \u001b[32m1.7/1.7 MB\u001b[0m \u001b[31m9.8 MB/s\u001b[0m eta \u001b[36m0:00:00\u001b[0m\n",
            "\u001b[?25hRequirement already satisfied: python-dateutil>=2.4 in /usr/local/lib/python3.10/dist-packages (from faker) (2.8.2)\n",
            "Requirement already satisfied: six>=1.5 in /usr/local/lib/python3.10/dist-packages (from python-dateutil>=2.4->faker) (1.16.0)\n",
            "Installing collected packages: faker\n",
            "Successfully installed faker-23.0.0\n"
          ]
        }
      ]
    },
    {
      "cell_type": "markdown",
      "source": [
        "# `import dependencies`"
      ],
      "metadata": {
        "id": "h892SdotOs3i"
      }
    },
    {
      "cell_type": "code",
      "source": [
        "# @title import dependencies { vertical-output: true, form-width: \"500px\", display-mode: \"both\" }\n",
        "# @markdown instalowanie zależności:\n",
        "# @markdown  `os`,\n",
        "# @markdown  `pathlib`, `typing`\n",
        "\n",
        "import os\n",
        "import faker\n",
        "import pathlib as pth\n",
        "from typing import Union, Literal, List\n",
        "from PyPDF2 import PdfReader, PdfWriter\n",
        "from pdfminer.high_level import extract_text as fallback_text_extraction\n",
        "from google.colab import files\n",
        "from docx import Document\n",
        "from docx.shared import Inches, Pt\n",
        "from docx.enum.text import WD_ALIGN_PARAGRAPH\n",
        "from openpyxl import Workbook\n",
        "from openpyxl.worksheet.table import Table, TableStyleInfo\n",
        "import openpyxl\n",
        "from openpyxl.reader.excel import load_workbook\n",
        "from openpyxl.styles import Alignment, Font\n",
        "import pandas as pd\n",
        "from dateutil import tz\n",
        "import re\n",
        "from unidecode import unidecode\n",
        "import random\n",
        "import string\n",
        "import time\n",
        "import random\n",
        "from datetime import datetime, timedelta\n",
        "from dateutil import parser"
      ],
      "metadata": {
        "id": "oC_2Bdqlp849"
      },
      "execution_count": 55,
      "outputs": []
    },
    {
      "cell_type": "markdown",
      "source": [
        "# `data - transformacje daty i czasu`"
      ],
      "metadata": {
        "id": "uU2nGKojRoLi"
      }
    },
    {
      "cell_type": "code",
      "source": [
        "# @title aktualna data i godzina { vertical-output: true, form-width: \"500px\", display-mode: \"both\" }\n",
        "\n",
        "def actual_datetime():\n",
        "  teraz = datetime.now(tz=tz.gettz('Europe/Warsaw'))\n",
        "  formatted_date = teraz.strftime(\"data_%d_%m_%Y\")\n",
        "  formatted_time = teraz.strftime(\"czas_%H_%M_%S\")\n",
        "\n",
        "  # print(formatted_date)\n",
        "  # print(formatted_time)\n",
        "\n",
        "  return {'data': formatted_date, 'czas': formatted_time}\n"
      ],
      "metadata": {
        "id": "Bw8RT8BLFCTn"
      },
      "execution_count": 56,
      "outputs": []
    },
    {
      "cell_type": "code",
      "source": [
        "# @title konwertuje format daty { vertical-output: true, form-width: \"500px\", display-mode: \"both\" }\n",
        "pd = \"20241225103432\" # @param {type:\"string\"}\n",
        "\n",
        "\n",
        "\n",
        "def convertPdfDatetime(pd):\n",
        "    dtformat_sparsowany = parser.parse(pd)\n",
        "    clean = pd.replace(\"D:\",\"\").split('+')[0]\n",
        "    # dtformat = \"%Y%m%d%H%M%S\"\n",
        "    # return datetime.strptime(clean,dtformat)\n",
        "    return dtformat_sparsowany\n",
        "\n",
        "# testy\n",
        "print(convertPdfDatetime(pd))"
      ],
      "metadata": {
        "id": "V1NCC5KMp3HF",
        "outputId": "4202ebad-5178-4f2a-bc48-65e82ba1bc09",
        "colab": {
          "base_uri": "https://localhost:8080/"
        }
      },
      "execution_count": 57,
      "outputs": [
        {
          "output_type": "stream",
          "name": "stdout",
          "text": [
            "2024-12-25 10:34:32\n"
          ]
        }
      ]
    },
    {
      "cell_type": "markdown",
      "source": [
        "# `operacje plikowe`"
      ],
      "metadata": {
        "id": "4O7gX1KuR9Tr"
      }
    },
    {
      "cell_type": "code",
      "source": [
        "# @title zmień katalog domyślny { vertical-output: true, form-width: \"500px\", display-mode: \"both\" }\n",
        "def zmien_katalog_domyslny(katalog_domyslny):\n",
        "  os.chdir(katalog_domyslny)\n",
        "  print(os.getcwd())\n",
        "\n",
        "# testy\n",
        "katalog_domyslny = \"/content\"\n",
        "zmien_katalog_domyslny(katalog_domyslny)\n"
      ],
      "metadata": {
        "id": "oRlzm6ULfoak",
        "colab": {
          "base_uri": "https://localhost:8080/"
        },
        "outputId": "f4afb0ee-60ea-463b-9f01-3599af064bbd"
      },
      "execution_count": 58,
      "outputs": [
        {
          "output_type": "stream",
          "name": "stdout",
          "text": [
            "/content\n"
          ]
        }
      ]
    },
    {
      "cell_type": "code",
      "source": [
        "# @title upload files { vertical-output: true, form-width: \"500px\", display-mode: \"both\" }\n",
        "folder_domyslny = \"\" # @param {type:\"string\"}\n",
        "\n",
        "def upload_files(folder_domyslny = \"uploaded\"):\n",
        "  check_if_directory_and_path_exists(folder_domyslny)\n",
        "  import_files(folder_domyslny)"
      ],
      "metadata": {
        "id": "JIelgrZw6Q6F"
      },
      "execution_count": 59,
      "outputs": []
    },
    {
      "cell_type": "code",
      "execution_count": 127,
      "metadata": {
        "id": "ZtqhtE1QnKas"
      },
      "outputs": [],
      "source": [
        "# @title importuj pliki do wskazanego katalogu { vertical-output: true, form-width: \"500px\", display-mode: \"both\" }\n",
        "destination_directory_path = \"\" # @param {type:\"string\"}\n",
        "\n",
        "def import_files(destination_directory_path):\n",
        "  uploaded = files.upload()\n",
        "  print(uploaded.keys())\n",
        "\n",
        "  for fn in uploaded.keys():\n",
        "    print('User uploaded file \"{name}\" with length {length} bytes'.format(\n",
        "        name=fn, length=len(uploaded[fn])))\n",
        "\n",
        "  for filename, file_content in uploaded.items():\n",
        "    if os.path.exists(destination_directory_path) and os.path.isdir(destination_directory_path):\n",
        "      with open(os.path.join(destination_directory_path, filename), \"wb\") as f:\n",
        "        f.write(file_content)\n",
        "\n",
        "      # remove files from /content\n",
        "      file_to_remove_after_copying_to_working_directory = os.path.join(os.getcwd(), filename)\n",
        "      if os.path.isfile(file_to_remove_after_copying_to_working_directory):\n",
        "        os.remove(file_to_remove_after_copying_to_working_directory)\n",
        "        if not os.path.exists(file_to_remove_after_copying_to_working_directory):\n",
        "          print(f\"plik: {os.path.basename(file_to_remove_after_copying_to_working_directory)} \"\n",
        "          f\"usunięty z katalogu {os.path.dirname(file_to_remove_after_copying_to_working_directory)}\")\n",
        "        else:\n",
        "          print(f\"plik: {os.path.basename(file_to_remove_after_copying_to_working_directory)} \"\n",
        "          f\"NIE usunięty z katalogu {os.path.dirname(file_to_remove_after_copying_to_working_directory)}\")"
      ]
    },
    {
      "cell_type": "code",
      "source": [
        "# @title sprawdzenie czy istnieje katalog roboczy, w którym chcemy pracować { vertical-output: true, form-width: \"500px\", display-mode: \"both\" }\n",
        "directory_path = \"\" # @param {type:\"string\"}\n",
        "\n",
        "def sprawdz_czy_katalog_istnieje(directory_name):\n",
        "  # Ścieżka do katalogu bieżącego\n",
        "  cwd = os.getcwd()\n",
        "  print(f\"katalog \\\"bieżący\\\": {cwd}\")\n",
        "\n",
        "  working_directory_for_creating = os.path.join(cwd, directory_name)\n",
        "  print(f\"katalog roboczy do utworzenia (jeśli nie istnieje): {working_directory_for_creating}\")\n",
        "\n",
        "  try:\n",
        "    if not os.path.exists(working_directory_for_creating):\n",
        "      print(f\"katalog: {working_directory_for_creating} nie istnieje i zostanie utworzony\")\n",
        "      os.makedirs(working_directory_for_creating)\n",
        "    else:\n",
        "      print(f\"katalog: {working_directory_for_creating} już istnieje!\")\n",
        "  except FileExistsError:\n",
        "    print(f\"katalog o nazwie {working_directory_for_creating} już istnieje!\")\n",
        "  except Exception as e:\n",
        "    print(f\"wystąpił błąd podczas tworzenie katalogu: {working_directory_for_creating}\")\n",
        "\n",
        "# testy\n",
        "# sprawdz_czy_katalog_istnieje(\"/content/zz\")"
      ],
      "metadata": {
        "id": "xpHkhACx7wIH"
      },
      "execution_count": 60,
      "outputs": []
    },
    {
      "cell_type": "code",
      "source": [
        "# @title rozdziel nazwe pliku od rozszerzenia { vertical-output: true, form-width: \"500px\", display-mode: \"both\" }\n",
        "filename = \"\" # @param {type:\"string\"}\n",
        "\n",
        "def rozdziel_nazwe_pliku_od_rozszerzenia(filename):\n",
        "  nazwa_pliku, rozszerzenie_pliku = os.path.splitext(filename)\n",
        "\n",
        "  return {'name_key': nazwa_pliku, 'ext_key': rozszerzenie_pliku}"
      ],
      "metadata": {
        "id": "RJeoYBCbKdBm"
      },
      "execution_count": 61,
      "outputs": []
    },
    {
      "cell_type": "code",
      "source": [
        "# @title usuń pliki lub katalogi { vertical-output: true, form-width: \"500px\", display-mode: \"both\" }\n",
        "sciezka = \"\" # @param {type:\"string\"}\n",
        "# usuwanie katalogów i plików\n",
        "\n",
        "import shutil\n",
        "\n",
        "def usun_pliki_lub_katalogi(sciezka):\n",
        "  try:\n",
        "    if os.path.isfile(sciezka):\n",
        "      os.remove(sciezka)\n",
        "    elif os.path.isdir(sciezka):\n",
        "      shutil.rmtree(sciezka)\n",
        "      print(f\"Katalog/Plik '{sciezka}' został usunięty\")\n",
        "  except Exception as e:\n",
        "    print(f\"Wystąpił błąd podczas usuwania '{sciezka}': {e}\")\n",
        "\n"
      ],
      "metadata": {
        "id": "vADvmVuixTXi"
      },
      "execution_count": 62,
      "outputs": []
    },
    {
      "cell_type": "code",
      "source": [
        "# @title iteruj pliki w podanym katalogu { vertical-output: true, form-width: \"500px\", display-mode: \"both\" }\n",
        "\n",
        "directory_path = \"/content/zz\" # @param {type:\"string\"}\n",
        "\n",
        "def iteruj_pliki_w_podanym_katalogu(sciezka_katalogu, funkcja_lambda, tryb):\n",
        "    zawartosci_plikow = {}  # Słownik do przechowywania zawartości plików\n",
        "    for nazwa_pliku in os.listdir(sciezka_katalogu):\n",
        "        sciezka_do_pliku = os.path.join(sciezka_katalogu, nazwa_pliku)\n",
        "        if os.path.isfile(sciezka_do_pliku):\n",
        "            # print(f\"Odczytywanie pliku: {sciezka_do_pliku}\")\n",
        "            przeczytana_zawartosc = funkcja_lambda(sciezka_do_pliku, tryb)\n",
        "            zawartosci_plikow[nazwa_pliku] = przeczytana_zawartosc\n",
        "\n",
        "    return zawartosci_plikow  # Zwracamy słownik zawartości plików\n",
        "\n",
        "# testy\n",
        "# print(iteruj_pliki_w_podanym_katalogu(\"/content/zz\", odczytaj_plik_ver_3))"
      ],
      "metadata": {
        "id": "Io-gJ1Nw6Nox"
      },
      "execution_count": 310,
      "outputs": []
    },
    {
      "cell_type": "code",
      "source": [
        "# @title sprawdź czy podany plik istnieje { vertical-output: true, form-width: \"500px\", display-mode: \"both\" }\n",
        "\n",
        "path_to_file = \"/content/KZP-\\u0141A.2110.03.2024 Dostawa skaner\\xF3w p\\u0142omienia Lamtec.xlsx\" # @param {type:\"string\"}\n",
        "# @markdown sprawdza czy plik o podanej ścieżce istnieje\n",
        "\n",
        "def sprawdz_czy_dany_plik_istnieje(path_to_file):\n",
        "  try:\n",
        "    with open(path_to_file, 'r') as file:\n",
        "      print(f\"Plik {path_to_file} istnieje i ma się całkiem nieźle ;-)\")\n",
        "      return True\n",
        "  except FileNotFoundError:\n",
        "    print('Sorry the file we\\'re looking for doesn\\' exist')\n",
        "    return False\n",
        "  except Exception as e:\n",
        "    print(f\"Wystąpił błąd: {e}\")\n",
        "    return False\n",
        "\n",
        "# testy\n",
        "#  /content/KZP-ŁA.2110.03.2024 Dostawa skanerów płomienia Lamtec.xlsx\n",
        "sprawdz_czy_dany_plik_istnieje(\"/content/KZP-ŁA.2110.03.2024 Dostawa skanerów płomienia Lamtec.xlsx\")"
      ],
      "metadata": {
        "id": "NwyYKWSoW4Uo",
        "outputId": "c69ebfd3-04a1-4a37-8813-203ed4bd39fc",
        "colab": {
          "base_uri": "https://localhost:8080/"
        }
      },
      "execution_count": 311,
      "outputs": [
        {
          "output_type": "stream",
          "name": "stdout",
          "text": [
            "Sorry the file we're looking for doesn' exist\n"
          ]
        },
        {
          "output_type": "execute_result",
          "data": {
            "text/plain": [
              "False"
            ]
          },
          "metadata": {},
          "execution_count": 311
        }
      ]
    },
    {
      "cell_type": "code",
      "source": [
        "# @title check if file exists { vertical-output: true, form-width: \"500px\", display-mode: \"both\" }\n",
        "path_to_file = \"\" # @param {type:\"string\"}\n",
        "\n",
        "def check_if_file_exists(path_to_file):\n",
        "  try:\n",
        "    with open(path_to_file, 'r') as file:\n",
        "      print(f\"Plik {path_to_file} istnieje i ma się całkiem nieźle ;-)\")\n",
        "      return True\n",
        "  except FileNotFoundError:\n",
        "    print('Sorry the file we\\'re looking for doesn\\' exist')\n",
        "    return False\n",
        "  except Exception as e:\n",
        "    print(f\"Wystąpił błąd: {e}\")\n",
        "    return False"
      ],
      "metadata": {
        "id": "wu1G-0jGKNf7"
      },
      "execution_count": 312,
      "outputs": []
    },
    {
      "cell_type": "code",
      "source": [
        "# @title rozdziel nazwe pliku od rozszerzenia { form-width: \"500px\", display-mode: \"both\" }\n",
        "filename = \"1_Zalacznik_Zakres_Przedmiotu_zamowienia_KZP_LA_2110_01_2024_Dostawa_silownika_Auma____kopia.xlsx\" # @param {type:\"string\"}\n",
        "\n",
        "def split_filename_and_extension(filename):\n",
        "  nazwa_pliku, rozszerzenie_pliku = os.path.splitext(filename)\n",
        "\n",
        "  return {'name_key': nazwa_pliku, 'ext_key': rozszerzenie_pliku}\n",
        "\n",
        "\n",
        "# testy\n",
        "\n",
        "nazwa_pliku_z_rozszerzeniem = split_filename_and_extension(filename)\n",
        "for key, value in nazwa_pliku_z_rozszerzeniem.items():\n",
        "  print(nazwa_pliku_z_rozszerzeniem[key])"
      ],
      "metadata": {
        "id": "23c8w_EjGIkB",
        "outputId": "90bd8d3b-c1d6-445c-b154-92488e95a239",
        "colab": {
          "base_uri": "https://localhost:8080/"
        }
      },
      "execution_count": 313,
      "outputs": [
        {
          "output_type": "stream",
          "name": "stdout",
          "text": [
            "1_Zalacznik_Zakres_Przedmiotu_zamowienia_KZP_LA_2110_01_2024_Dostawa_silownika_Auma____kopia\n",
            ".xlsx\n"
          ]
        }
      ]
    },
    {
      "cell_type": "code",
      "source": [
        "# @title zamienia wszystkie inne znaki niż litery i cyfry (oprócz ost. kropki) na '_' (podaj nazwę w formacie nazwa_pliku.rozszerzenie) { form-width: \"600px\", display-mode: \"both\" }\n",
        "nazwa_pliku_do_zmiany_znakow = \"KZP-\\u0141A.2110.01.2024 Dostawa si\\u0142ownika Auma.xlsx\" # @param {type:\"string\"}\n",
        "\n",
        "# KZP-ŁA.2110.01.2024 Dostawa siłownika Auma.xlsx\n",
        "\n",
        "def zamien_znaki_w_nazwie_pliku(nazwa_pliku_do_zmiany_znakow):\n",
        "  nazwa, rozszerzenie = nazwa_pliku_do_zmiany_znakow.rsplit('.',1) if '.' in nazwa_pliku_do_zmiany_znakow else (nazwa_pliku_do_zmiany_znakow, '')\n",
        "  nazwa_bez_polskich_znakow = unidecode(nazwa)\n",
        "  zmodyfikowana_nazwa = re.sub(r'[^a-zA-Z0-9]', '_', nazwa_bez_polskich_znakow)\n",
        "  zmodyfikowany_string = zmodyfikowana_nazwa + ('.' + rozszerzenie if rozszerzenie else '')\n",
        "  return zmodyfikowany_string\n",
        "\n",
        "# testy\n",
        "input_string = r\"1.Załącznik Zakres Przedmiotu zamówienia KZP-ŁA.2110.01.2024 Dostawa siłownika Auma — kopia.xlsx\"\n",
        "result = zamien_znaki_w_nazwie_pliku(input_string)\n",
        "print(result)\n"
      ],
      "metadata": {
        "id": "XeiehizdNfw_",
        "outputId": "da297cdf-4512-433f-e8d3-989d11f808a7",
        "colab": {
          "base_uri": "https://localhost:8080/"
        }
      },
      "execution_count": 314,
      "outputs": [
        {
          "output_type": "stream",
          "name": "stdout",
          "text": [
            "1_Zalacznik_Zakres_Przedmiotu_zamowienia_KZP_LA_2110_01_2024_Dostawa_silownika_Auma____kopia.xlsx\n"
          ]
        }
      ]
    },
    {
      "cell_type": "code",
      "source": [
        "# @title sprawdzenie czy istnieje katalog roboczy, w którym chcemy pracować { vertical-output: true, form-width: \"500px\", display-mode: \"both\" }\n",
        "directory_name_path = \"\" # @param {type:\"string\"}\n",
        "\n",
        "def check_if_directory_and_path_exists(directory_name):\n",
        "  # Ścieżka do katalogu bieżącego\n",
        "  cwd = os.getcwd()\n",
        "  print(f\"katalog \\\"bieżący\\\": {cwd}\")\n",
        "\n",
        "  working_directory_for_creating = os.path.join(cwd, directory_name)\n",
        "  print(f\"katalog roboczy do utworzenia (jeśli nie istnieje): {working_directory_for_creating}\")\n",
        "\n",
        "  try:\n",
        "    if not os.path.exists(working_directory_for_creating):\n",
        "      print(f\"katalog: {working_directory_for_creating} nie istnieje i zostanie utworzony\")\n",
        "      os.makedirs(working_directory_for_creating)\n",
        "    else:\n",
        "      print(f\"katalog: {working_directory_for_creating} już istnieje!\")\n",
        "  except FileExistsError:\n",
        "    print(f\"katalog o nazwie {working_directory_for_creating} już istnieje!\")\n",
        "  except Exception as e:\n",
        "    print(f\"wystąpił błąd podczas tworzenie katalogu: {working_directory_for_creating}\")"
      ],
      "metadata": {
        "id": "xYJkVB2xKHZJ"
      },
      "execution_count": 315,
      "outputs": []
    },
    {
      "cell_type": "code",
      "source": [
        "# @title importuj pliki do wskazanego katalogu { vertical-output: true, form-width: \"500px\", display-mode: \"both\" }\n",
        "destination_directory = \"\" # @param {type:\"string\"}\n",
        "\n",
        "def import_files(destination_directory):\n",
        "\n",
        "  uploaded = files.upload()\n",
        "  # print(uploaded.keys())\n",
        "\n",
        "  for fn in uploaded.keys():\n",
        "    print('User uploaded file \"{name}\" with length {length} bytes'.format(\n",
        "        name=fn, length=len(uploaded[fn])))\n",
        "\n",
        "  for filename, file_content in uploaded.items():\n",
        "    if os.path.exists(destination_directory) and os.path.isdir(destination_directory):\n",
        "      with open(os.path.join(destination_directory, filename), \"wb\") as f:\n",
        "        f.write(file_content)\n",
        "\n",
        "      # remove files from /content\n",
        "      file_to_remove_after_copying_to_working_directory = os.path.join(os.getcwd(), filename)\n",
        "      if os.path.isfile(file_to_remove_after_copying_to_working_directory):\n",
        "        os.remove(file_to_remove_after_copying_to_working_directory)\n",
        "        if not os.path.exists(file_to_remove_after_copying_to_working_directory):\n",
        "          print(f\"plik: {os.path.basename(file_to_remove_after_copying_to_working_directory)} \"\n",
        "          f\"usunięty z katalogu {os.path.dirname(file_to_remove_after_copying_to_working_directory)}\")\n",
        "        else:\n",
        "          print(f\"plik: {os.path.basename(file_to_remove_after_copying_to_working_directory)} \"\n",
        "          f\"NIE usunięty z katalogu {os.path.dirname(file_to_remove_after_copying_to_working_directory)}\")"
      ],
      "metadata": {
        "id": "itYcWazRKJaO"
      },
      "execution_count": 316,
      "outputs": []
    },
    {
      "cell_type": "code",
      "source": [
        "# @title Generator Nazw Plikow { vertical-output: true, form-width: \"500px\", display-mode: \"both\" }\n",
        "class GeneratorNazwPlikow:\n",
        "  static_variable = 0\n",
        "\n",
        "  def generuj_nazwe_pliku(self, nazwa_pliku, rozszerzenie = \"docx\"):\n",
        "    GeneratorNazwPlikow.static_variable += 1\n",
        "    file_name = f\"{nazwa_pliku}_{GeneratorNazwPlikow.static_variable}.{rozszerzenie}\"\n",
        "\n",
        "    return file_name"
      ],
      "metadata": {
        "id": "WSBLeMYv2lPG"
      },
      "execution_count": 317,
      "outputs": []
    },
    {
      "cell_type": "code",
      "source": [
        "# @title czyszczenie zawartości pliku { vertical-output: true, form-width: \"500px\", display-mode: \"both\" }\n",
        "\n",
        "def wyczysc_zawartosc_pliku(sciezka_do_pliku):\n",
        "  with open(sciezka_do_pliku, \"w\") as plik:\n",
        "    plik.truncate(0)"
      ],
      "metadata": {
        "id": "0MK_ijL870wj"
      },
      "execution_count": 318,
      "outputs": []
    },
    {
      "cell_type": "code",
      "source": [
        "# @title utwórz nowy plik { vertical-output: true, form-width: \"500px\", display-mode: \"both\" }\n",
        "\n",
        "def utworz_nowy_plik(nazwa_pliku):\n",
        "  aktualna_data_i_godzina = datetime.now().strftime(\"%d.%m.%Y %H.%M.%S %Z\")\n",
        "  print(\"aktualna_data_i_godzina:\", aktualna_data_i_godzina)\n",
        "  sciezka_do_pliku = f'/content/{nazwa_pliku}'\n",
        "\n",
        "  with open(sciezka_do_pliku, \"w\") as plik:\n",
        "    plik.write(aktualna_data_i_godzina)\n"
      ],
      "metadata": {
        "id": "crPKXV29_nC-"
      },
      "execution_count": 319,
      "outputs": []
    },
    {
      "cell_type": "code",
      "source": [
        "# @title usun_pliki_lub_katalogi { vertical-output: true, form-width: \"650px\", display-mode: \"both\" }\n",
        "import sys\n",
        "\n",
        "def zmien_nazwe_katalogu(stara_nazwa, nowa_nazwa):\n",
        "    try:\n",
        "      os.rename(stara_nazwa, nowa_nazwa)\n",
        "      print(f'Zmieniono starą nazwę: {stara_nazwa} na nową: {nowa_nazwa}')\n",
        "    except OSError as e:\n",
        "      print(f'Błąd zmiany nazwy pliku/katalogu: {e}')"
      ],
      "metadata": {
        "id": "-vNvB-UNfBIf"
      },
      "execution_count": 320,
      "outputs": []
    },
    {
      "cell_type": "markdown",
      "source": [
        "# `MGR - odczyt plików`"
      ],
      "metadata": {
        "id": "eTgKIieCQhzs"
      }
    },
    {
      "cell_type": "code",
      "source": [
        "# @title odczyt pliku ver 1 { vertical-output: true, form-width: \"600px\", display-mode: \"both\" }\n",
        "\n",
        "def odczytaj_plik_ver_1(plik):\n",
        "  file_handler = open(plik, \"r\")\n",
        "  read_content = file_handler.read()\n",
        "\n",
        "  return read_content"
      ],
      "metadata": {
        "id": "Jkjs7HFvXYkW"
      },
      "execution_count": 321,
      "outputs": []
    },
    {
      "cell_type": "code",
      "source": [
        "# @title odczyt pliku ver 2 { vertical-output: true, form-width: \"600px\", display-mode: \"both\" }\n",
        "\n",
        "def odczytaj_plik_ver_2(plik):\n",
        "  with open(plik, 'r') as plik:\n",
        "    przeczytaj_zawartosc = plik.read()\n",
        "\n",
        "    return przeczytaj_zawartosc"
      ],
      "metadata": {
        "id": "Y04hqvLbavZC"
      },
      "execution_count": 322,
      "outputs": []
    },
    {
      "cell_type": "code",
      "source": [
        "# @title odczyt pliku ver 3 { vertical-output: true, form-width: \"600px\", display-mode: \"both\" }\n",
        "\n",
        "def odczytaj_plik_ver_3(plik, tryb = 'r'):\n",
        "    try:\n",
        "        with open(plik, tryb) as plik:\n",
        "            przeczytaj_zawartosc = plik.read()\n",
        "            # print(przeczytaj_zawartosc)\n",
        "            return przeczytaj_zawartosc\n",
        "    except KeyboardInterrupt:\n",
        "        print('!! Przerwałeś odczytywanie pliku.')\n",
        "    finally:\n",
        "        plik.close()"
      ],
      "metadata": {
        "id": "in9Vz88jcHIN"
      },
      "execution_count": 323,
      "outputs": []
    },
    {
      "cell_type": "code",
      "source": [
        "# @title MainAPP { vertical-output: true, form-width: \"600px\", display-mode: \"both\" }\n",
        "# upload_files(\"/content/zz\")\n",
        "# usun_pliki_lub_katalogi(\"/content/content\")\n",
        "\n",
        "slownik_danych = iteruj_pliki_w_podanym_katalogu(\"/content/zz\", odczytaj_plik_ver_3, \"rb\")\n",
        "# print(slownik_danych.keys())\n",
        "\n",
        "for key, value in slownik_danych.items():\n",
        "  print(key)\n",
        "  # print(type(slownik_danych[key]))\n",
        "  print(slownik_danych[key])\n",
        "\n",
        "\n"
      ],
      "metadata": {
        "id": "eYA14kPIMa4f",
        "outputId": "a191a8e0-8d82-460d-87e5-9e44b5207b1d",
        "colab": {
          "base_uri": "https://localhost:8080/"
        }
      },
      "execution_count": 324,
      "outputs": [
        {
          "output_type": "stream",
          "name": "stdout",
          "text": [
            "Line_Type.txt\n",
            "b'//Plik LINE_TYPE \\xe2\\x80\\x93 katalog kabli i przewod\\xc3\\xb3w\\n//ID \\xe2\\x80\\x93 numer pozycji katalogowej\\n//KIND_ID \\xe2\\x80\\x93kabel=1, przew\\xc3\\xb3d linii napowietrznej = 2\\n//TYPE \\xe2\\x80\\x93 nazwa typu\\n//VOLTAGE \\xe2\\x80\\x93 napi\\xc4\\x99cie znamionowe\\n//MAIN_STRAND_INTERSECTION \\xe2\\x80\\x93 przekr\\xc3\\xb3j roboczy\\n//COHESIVE_UNIT_RESISTANCE \\xe2\\x80\\x93 rezystancja jednostkowa\\n//ZERO_UNIT_RESISTANCE \\xe2\\x80\\x93 nieistotne, wpisujemy 0\\n//COHESIVE_UNIT_REACTANCE \\xe2\\x80\\x93 reaktancja jednostkowa\\n//ZERO_UNIT_REACTANCE \\xe2\\x80\\x93 nieistotne, wpisujemy 0\\n//UNIT_CAPACITANCE_TO_EARTH \\xe2\\x80\\x93 pojemno\\xc5\\x9b\\xc4\\x87 doziemna\\n//UNIT_WORKING_CAPACITANCE \\xe2\\x80\\x93 pojemno\\xc5\\x9b\\xc4\\x87 robocza\\n// dla kabli, obci\\xc4\\x85\\xc5\\xbcalno\\xc5\\x9b\\xc4\\x87 dopuszczalna d\\xc5\\x82ugotrwale, [A]\\n//LONGTERM_SUMMER_LOAD_CAPACITY dla przewod\\xc3\\xb3w linii napowietrznych, obci\\xc4\\x85\\xc5\\xbcalno\\xc5\\x9b\\xc4\\x87 dopuszczalna d\\xc5\\x82ugotrwale, lato, [A]\\n//LONGTERM_WINTER_LOAD_CAPACITY dla przewod\\xc3\\xb3w linii napowietrznych, obci\\xc4\\x85\\xc5\\xbcalno\\xc5\\x9b\\xc4\\x87 Dopuszczalna d\\xc5\\x82ugotrwale, zima, [A]\\n//SHORTCIRCUIT_1S_LOAD_CAPACITY \\xe2\\x80\\x93 nieistotne, wpisujemy 0\\nID|KIND_ID|TYPE|VOLTAGE|MAIN_STRAND_INTERSECTION|COHESIVE_UNIT_RESISTANCE|ZERO_UNIT_RESISTANCE|COHESIVE_UNIT_REACTANCE|ZERO_UNIT_REACTANCE|UNIT_CAPACITANCE_TO_EARTH|UNIT_WORKING_CAPACITANCE|LONGTERM_LOAD_CAPACITY|LONGTERM_SUMMER_LOAD_CAPACITY|LONGTERM_WINTER_LOAD_CAPACITY|SHORTCIRCUIT_1S_LOAD_CAPACITY\\n1|1|3xYHAKXS1x70|15|70|0.364|0|0.08|0|0.25|0.25|175|0|0|0\\n2|1|5xYKY1x400|0.4|400|0.153|0|0.110|0|0.210|0.37|353|0|0|0\\n3|1|5xYKY1x500|0.4|500|0.153|0|0.107|0|0.225|0.40|399|0|0|0\\n8|2|3xAFL-6|15|70|0.191|0|0.08|0|0.31|0.31|0|345|390|0\\n'\n",
            "Arc.txt\n",
            "b'//Plik ARC (\\xc5\\x82uki sieci):\\n//Id- unikalny numer \\xc5\\x82uku\\n//Pocz \\xe2\\x80\\x93 numer w\\xc4\\x99z\\xc5\\x82a pocz\\xc4\\x85tkowego \\xc5\\x82uku\\n//Konc \\xe2\\x80\\x93 numer w\\xc4\\x99z\\xc5\\x82a ko\\xc5\\x84cowego \\xc5\\x82uku\\n//Typ: TRANSFORMER lub LINE lub SWITCH\\n//Pozycja \\xe2\\x80\\x93 identyfikator pozycji \\xc5\\x82uku w odpowiednim katalogu\\n//Dlugosc \\xe2\\x80\\x93 d\\xc5\\x82ugo\\xc5\\x9b\\xc4\\x87 \\xc5\\x82uku w [m], dla TRANSFORMER i SWITCH = 0\\n//Tory \\xe2\\x80\\x93 liczba tor\\xc3\\xb3w r\\xc3\\xb3wnoleg\\xc5\\x82ych, dla TRANSFORMER i SWITCH = 0\\n//Stan \\xe2\\x80\\x93 1 \\xe2\\x80\\x93 czynny, 0 \\xe2\\x80\\x93 nieczynny\\n//Zmiana \\xe2\\x80\\x93 wpisujemy warto\\xc5\\x9b\\xc4\\x87 2\\nId|Pocz|Konc|Typ|Pozycja|Dlugosc|Tory|Stan|Zmiana|\\n501|0|1|LINE|8|10|1|0|2\\n502|0|2|LINE|8|10|1|0|2\\n1|1|3|LINE|8|7000|1|1|2\\n2|2|4|LINE|8|9000|1|1|2\\n11|3|11|LINE|1|76.28|1|1|2\\n12|3|12|LINE|1|325.9|1|1|2\\n13|3|13|LINE|1|756.58|1|1|2\\n14|3|14|LINE|1|692.82|1|1|2\\n21|4|21|LINE|1|76.28|1|1|2\\n23|4|23|LINE|1|756.58|1|1|2\\n5|11|100|TRANSFORMER|10|0|0|1|2\\n6|21|100|TRANSFORMER|10|0|0|0|2\\n7|12|200|TRANSFORMER|20|0|0|1|2\\n8|13|300|TRANSFORMER|10|0|0|1|2\\n9|23|300|TRANSFORMER|10|0|0|0|2\\n10|14|400|TRANSFORMER|10|0|0|1|2\\n101|100|101|LINE|2|22.046|1|1|2\\n102|100|102|LINE|2|46.4167|1|1|2\\n103|100|103|LINE|2|95.0732|1|1|2\\n104|103|104|LINE|2|88.9553|1|1|2\\n105|100|105|LINE|2|213.7428|1|1|2\\n106|105|106|LINE|2|88.9553|1|1|2\\n107|100|107|LINE|2|271.4925|1|1|2\\n110|104|106|LINE|2|50.0|1|1|2\\n201|200|201|LINE|3|76.9468|1|1|2\\n202|201|202|LINE|3|76.9468|1|1|2\\n203|200|203|LINE|3|45.38|1|1|2\\n204|203|204|LINE|3|96.18|1|1|2\\n205|200|205|LINE|3|126.788|1|1|2\\n206|205|206|LINE|3|96.1879|1|1|2\\n207|200|207|LINE|3|101.58|1|1|2\\n208|207|208|LINE|3|110.69|1|1|2\\n209|200|209|LINE|3|273.462|1|1|2\\n210|209|210|LINE|3|36.35|1|1|2\\n211|210|211|LINE|3|37.62|1|1|2\\n220|202|211|LINE|3|25.0|1|1|2\\n301|300|301|LINE|2|51.59|1|1|2\\n302|301|302|LINE|2|48.255|1|1|2\\n303|300|303|LINE|2|71.739|1|1|2\\n304|300|304|LINE|2|125.10|1|1|2\\n305|300|305|LINE|2|145.37|1|1|2\\n306|305|306|LINE|2|39.61|1|1|2\\n307|306|307|LINE|2|104.99|1|1|2\\n310|302|307|LINE|3|50.0|1|1|2\\n401|400|401|LINE|2|84.73|1|1|2\\n402|400|402|LINE|2|45.09|1|1|2\\n403|400|403|LINE|2|11.40|1|1|2\\n404|403|404|LINE|2|31.99|1|1|2\\n405|400|405|LINE|2|147.57|1|1|2\\n406|405|406|LINE|2|71.86|1|1|2\\n407|406|407|LINE|2|71.86|1|1|2\\n410|404|407|LINE|2|50.0|1|1|2\\n'\n",
            "Transformer_Type.txt\n",
            "b'//PlikTRANSFORMER_TYPE\\xe2\\x80\\x93katalogtransformator\\xc3\\xb3w\\n//ID\\xe2\\x80\\x93 numer pozycji katalogowej\\n//TYPE \\xe2\\x80\\x93 nazwa typu\\n//NOMINAL_POWER \\xe2\\x80\\x93 moc znamionowa [kVA]\\n//NOMINAL_UPPER_VOLTAGE \\xe2\\x80\\x93 napi\\xc4\\x99cie znamionowe g\\xc3\\xb3rne [kV]\\n//NOMINAL_LOWER_VOLTAGE \\xe2\\x80\\x93 napi\\xc4\\x99cie znamionowe dolne kV]\\n//LOAD_POWER_LOSS \\xe2\\x80\\x93 straty obci\\xc4\\x85\\xc5\\xbceniowe czynne [kW]\\n//ACTIVE_IDLE_LOSS \\xe2\\x80\\x93 straty ja\\xc5\\x82owe czynne [kW]\\n//SHORTING_VOLTAGE \\xe2\\x80\\x93 napi\\xc4\\x99cie zwarcia [%]\\n//Pozosta\\xc5\\x82e dane nie s\\xc4\\x85 potrzebne, wystarczy wpisa\\xc4\\x87 0.\\nID|TYPE|NOMINAL_POWER|NOMINAL_UPPER_VOLTAGE|NOMINAL_LOWER_VOLTAGE|VOLTAGE_INCREASE_RANGE|VOLTAGE_DECREASE_RANGE|NO_OF_ADJUSTMENT_RANGE|CONNECTION_GROUP|LOAD_POWER_LOSS|ACTIVE_IDLE_LOSS|IDLE_CURRENT|SHORTING_VOLTAGE|ZERO_RESISTANCE|ZERO_REAKTANCE\\n10|TOd|630.00|15.75|0.42|0|0|0|0|6.5|0.6|0|6|0|0\\n20|TOd|800.00|15.75|0.42|0|0|0|0|6.5|0.6|0|6|0|0\\n'\n",
            "Node.txt\n",
            "b'//Plik NODE (w\\xc4\\x99z\\xc5\\x82y sieci):\\n//Numer \\xe2\\x80\\x93 unikalny numer w\\xc4\\x99z\\xc5\\x82a\\n//Typ \\xe2\\x80\\x93 jeden w\\xc4\\x99ze\\xc5\\x82 o typie 4 (bilansujcy), pozosta\\xc5\\x82e \\xe2\\x80\\x93 typ = 1\\n//Moc czynna \\xe2\\x80\\x93 moc czynna odbierana w w\\xc4\\x99\\xc5\\xbale [kW]\\n//Moc bierna \\xe2\\x80\\x93 moc bierna odbierana w w\\xc4\\x99\\xc5\\xbale (r\\xc3\\xb3wnie\\xc5\\xbc moc baterii kondensator\\xc3\\xb3w) [kVar]\\n//Odchylenie moc czynnej = 0\\n//Odchylenie mocy biernej = 0\\n//Napiecie \\xe2\\x80\\x93 napi\\xc4\\x99cie znamionowe w\\xc4\\x99z\\xc5\\x82a sieci\\nNumer|Typ|Moc czynna|Moc bierna|Odchylenie moc czynnej|Odchylenie mocy biernej|Napiecie\\n0|1|0|0|0|0|15\\n1|4|0|0|0|0|15\\n2|1|0|0|0|0|15\\n3|1|0|0|0|0|15\\n4|1|0|0|0|0|15\\n11|1|0|0|0|0|15\\n21|1|0|0|0|0|15\\n12|1|0|0|0|0|15\\n13|1|0|0|0|0|15\\n23|1|0|0|0|0|15\\n14|1|0|0|0|0|15\\n100|1|0|0|0|0|15\\n200|1|0|0|0|0|15\\n300|1|0|0|0|0|15\\n400|1|0|0|0|0|15\\n101|1|75|93.75|0|0|0.4\\n102|1|75|93.75|0|0|0.4\\n103|1|50|58.823|0|0|0.4\\n104|1|40|47.058|0|0|0.4\\n105|1|40|47.058|0|0|0.4\\n106|1|40|47.058|0|0|0.4\\n107|1|17|20|0|0|0.4\\n201|1|50|62.5|0|0|0.4\\n202|1|50|62.5|0|0|0.4\\n203|1|45|56.25|0|0|0.4\\n204|1|45|56.25|0|0|0.4\\n205|1|40|44.444|0|0|0.4\\n206|1|40|44.444|0|0|0.4\\n207|1|40|44.444|0|0|0.4\\n208|1|30|33.333|0|0|0.4\\n209|1|40|53.333|0|0|0.4\\n210|1|40|53.333|0|0|0.4\\n211|1|30|40|0|0|0.4\\n301|1|35|41.176|0|0|0.4\\n302|1|35|41.176|0|0|0.4\\n303|1|75|93.75|0|0|0.4\\n304|1|75|93.75|0|0|0.4\\n305|1|40|53.333|0|0|0.4\\n306|1|40|53.333|0|0|0.4\\n307|1|40|53.333|0|0|0.4\\n401|1|75|93.75|0|0|0.4\\n402|1|75|93.75|0|0|0.4\\n403|1|35|46.666|0|0|0.4\\n404|1|35|46.666|0|0|0.4\\n405|1|50|62.5|0|0|0.4\\n406|1|50|62.5|0|0|0.4\\n407|1|30|30|0|0|0.4\\n'\n"
          ]
        }
      ]
    }
  ]
}